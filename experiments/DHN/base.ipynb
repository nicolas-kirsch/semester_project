{
 "cells": [
  {
   "cell_type": "code",
   "execution_count": 8,
   "metadata": {},
   "outputs": [
    {
     "name": "stdout",
     "output_type": "stream",
     "text": [
      "The feedback gain K is:\n",
      "[0.15653031]\n"
     ]
    }
   ],
   "source": [
    "import numpy as np\n",
    "from scipy.signal import place_poles\n",
    "\n",
    "# Define the system matrices A and B\n",
    "mass = 2200\n",
    "cop = 3.53\n",
    "gamma = 0.99\n",
    "\n",
    "cp = 4186*10**(-6)\n",
    "A = np.array([[gamma]])\n",
    "B = np.array([[cop/(mass*cp)]])\n",
    "# Desired pole location\n",
    "desired_poles = [0.93]\n",
    "\n",
    "# Calculate the gain matrix K\n",
    "result = place_poles(A, B, desired_poles)\n",
    "K = result.gain_matrix[0]\n",
    "\n",
    "print(\"The feedback gain K is:\")\n",
    "print(K)\n"
   ]
  }
 ],
 "metadata": {
  "kernelspec": {
   "display_name": "Python 3",
   "language": "python",
   "name": "python3"
  },
  "language_info": {
   "codemirror_mode": {
    "name": "ipython",
    "version": 3
   },
   "file_extension": ".py",
   "mimetype": "text/x-python",
   "name": "python",
   "nbconvert_exporter": "python",
   "pygments_lexer": "ipython3",
   "version": "3.10.12"
  }
 },
 "nbformat": 4,
 "nbformat_minor": 2
}
